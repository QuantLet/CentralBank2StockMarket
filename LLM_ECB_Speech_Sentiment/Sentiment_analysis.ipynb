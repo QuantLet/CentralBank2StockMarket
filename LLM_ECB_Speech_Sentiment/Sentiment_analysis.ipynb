{
 "cells": [
  {
   "cell_type": "code",
   "execution_count": null,
   "id": "0d52bbbc-0cc5-47a1-8675-be95820bf664",
   "metadata": {},
   "outputs": [],
   "source": [
    "import os\n",
    "import pandas as pd\n",
    "import numpy as np\n",
    "from datetime import datetime, timedelta\n",
    "import yfinance as yf\n",
    "from sklearn.metrics import mean_squared_error, r2_score\n",
    "import matplotlib.pyplot as plt\n",
    "import ollama  # LLaMA model API\n",
    "import re\n",
    "from tqdm import tqdm  # For progress bars\n",
    "from concurrent.futures import ThreadPoolExecutor, as_completed  # For parallel processing\n",
    "from gnews import GNews  # Import the GNews package\n",
    "from pytz import UTC\n",
    "import concurrent.futures"
   ]
  },
  {
   "cell_type": "code",
   "execution_count": null,
   "id": "e21b0488-1c7b-4342-9278-9750aff9efb0",
   "metadata": {},
   "outputs": [],
   "source": [
    "df = pd.read_csv('all_ECB_speeches_para.csv')"
   ]
  },
  {
   "cell_type": "code",
   "execution_count": null,
   "id": "510e770f-d20a-4a78-88e2-7d9f16d0238d",
   "metadata": {
    "scrolled": true
   },
   "outputs": [],
   "source": [
    "text = ''\n",
    "for i in df['contents_para']:\n",
    "    if isinstance(i, str):\n",
    "        text += (i + '\\n\\n')\n",
    "    else:\n",
    "        None\n",
    "text"
   ]
  },
  {
   "cell_type": "code",
   "execution_count": null,
   "id": "2f84da4d-8209-4f60-b741-8b3cf3a5ef4b",
   "metadata": {},
   "outputs": [],
   "source": [
    "para_list = text.split('\\n\\n')"
   ]
  },
  {
   "cell_type": "code",
   "execution_count": null,
   "id": "6bef981d-4db9-4d88-9079-c81b3e68e601",
   "metadata": {
    "scrolled": true
   },
   "outputs": [],
   "source": [
    "para_list"
   ]
  },
  {
   "cell_type": "code",
   "execution_count": null,
   "id": "a635a6c3-f904-42a0-b682-ad074c876127",
   "metadata": {},
   "outputs": [],
   "source": [
    "df2 = pd.DataFrame({'Paragraphs':para_list})"
   ]
  },
  {
   "cell_type": "code",
   "execution_count": null,
   "id": "a3c13e63-5bd2-4370-a27d-788d775aeb02",
   "metadata": {},
   "outputs": [],
   "source": [
    "df2.to_csv('ECB_speech_paragraph.csv', index=False)\n",
    "df2."
   ]
  },
  {
   "cell_type": "code",
   "execution_count": null,
   "id": "a313ba5c-9d7d-420a-b3f0-760415db7d5e",
   "metadata": {},
   "outputs": [],
   "source": [
    "df2 = pd.read_csv('ECB_speech_paragraph.csv')\n",
    "df2 = df2.iloc[890:,:]"
   ]
  },
  {
   "cell_type": "code",
   "execution_count": null,
   "id": "8496b71a-089e-432c-8521-a90d101d7120",
   "metadata": {},
   "outputs": [],
   "source": [
    "# Predict Next Day's Price with LLaMA (Probabilistic) including news\n",
    "def Compute_sentiment(df):\n",
    "\n",
    "    reasonings = []\n",
    "    results = []\n",
    "\n",
    "    if 'Results_sentiment.csv' not in os.listdir():\n",
    "        empty_df = pd.DataFrame({'Paragraph':[], 'Reasoning':[], 'Result':[]})\n",
    "        empty_df.to_csv('Results_sentiment.csv', index=False)\n",
    "        \n",
    "    def run_simulation(text):\n",
    "        '''Style source https://arxiv.org/pdf/2309.02045'''\n",
    "        prompt = (\n",
    "            f\"Given the review text \\\"{text}\\\". What specific aspect of the subjective is being described?:\\n\"\n",
    "            f\"What is the implicit opinion toward the mentioned aspect and why?\\n\"\n",
    "            f\"Based on the above, classify the review text as ['Hawkish','Neutral','Dovish'] based on policy stance in the text.\\n\"\n",
    "            f\"Strictly provide the classification result at the end of the output in the following format:\\n\"\n",
    "            f\"\\n\\n Output: class\"\n",
    "        )\n",
    "    \n",
    "        try:\n",
    "            response = ollama.chat(\n",
    "                model=\"llama3.3\",\n",
    "                messages=[\n",
    "                    {\"role\": \"system\", \"content\": \"You are an expert of sentiment analysis in economics domain at the central bank, please follow the instructions step by step.\"},\n",
    "                    {\"role\": \"user\", \"content\": prompt}\n",
    "                ]\n",
    "            )\n",
    "            response_content = response[\"message\"][\"content\"]\n",
    "            match = response_content\n",
    "        except Exception as e:\n",
    "            print(f\"LLaMA simulation failed: {e}\")\n",
    "\n",
    "        reason = match\n",
    "        result = reason.split('Output: ')[-1]\n",
    "        \n",
    "        print('->', text, '\\n----------------\\n', reason, '\\n----------------\\n', result)\n",
    "    \n",
    "        df_append = pd.DataFrame({'Paragraph':[text], 'Reasoning':[reason], 'Result':[result]})\n",
    "        df_append.to_csv('Results_sentiment.csv', index=False, header=False, mode='a')\n",
    "        return reason, result\n",
    "\n",
    "    # Using ThreadPoolExecutor for parallel execution\n",
    "    with concurrent.futures.ThreadPoolExecutor() as executor:\n",
    "        results_parallel = list(tqdm(executor.map(run_simulation, df['Paragraphs']), total=len(df), desc=\"Processing\"))\n",
    "    \n",
    "    return df"
   ]
  },
  {
   "cell_type": "code",
   "execution_count": null,
   "id": "6a585295-fd55-4d6f-b4e9-0571ec2131d3",
   "metadata": {
    "scrolled": true
   },
   "outputs": [],
   "source": [
    "Compute_sentiment(df2)"
   ]
  },
  {
   "cell_type": "code",
   "execution_count": null,
   "id": "4300136f-ee92-40e2-b4bf-12719f6fc72a",
   "metadata": {},
   "outputs": [],
   "source": []
  },
  {
   "cell_type": "code",
   "execution_count": null,
   "id": "94f7919b-e468-4bb9-8524-84e31b0b84c2",
   "metadata": {},
   "outputs": [],
   "source": []
  }
 ],
 "metadata": {
  "kernelspec": {
   "display_name": "Python [conda env:RT_PythonEnv_LLM_DRL]",
   "language": "python",
   "name": "conda-env-RT_PythonEnv_LLM_DRL-py"
  },
  "language_info": {
   "codemirror_mode": {
    "name": "ipython",
    "version": 3
   },
   "file_extension": ".py",
   "mimetype": "text/x-python",
   "name": "python",
   "nbconvert_exporter": "python",
   "pygments_lexer": "ipython3",
   "version": "3.11.9"
  }
 },
 "nbformat": 4,
 "nbformat_minor": 5
}
